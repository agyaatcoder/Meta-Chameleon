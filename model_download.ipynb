{
 "cells": [
  {
   "cell_type": "markdown",
   "id": "34417461-8b11-4993-bbc3-64b635239a2a",
   "metadata": {},
   "source": [
    "We have attached a modal volume to this jupyter server"
   ]
  },
  {
   "cell_type": "code",
   "execution_count": 10,
   "id": "9d58a223-5847-4a38-8e30-a386b44e1587",
   "metadata": {},
   "outputs": [],
   "source": [
    "import modal\n",
    "import getpass\n",
    "from pathlib import Path\n",
    "from chameleon import download_data"
   ]
  },
  {
   "cell_type": "code",
   "execution_count": 11,
   "id": "be53830b-313e-4b95-b88b-e45471b96a0b",
   "metadata": {},
   "outputs": [
    {
     "name": "stdout",
     "output_type": "stream",
     "text": [
      "[FileEntry(path='data', type=<FileEntryType.DIRECTORY: 2>, mtime=1719157929, size=15)]\n"
     ]
    }
   ],
   "source": [
    "n = modal.Volume.lookup(\"chameleon-model\")\n",
    "print(n.listdir(\"/\"))"
   ]
  },
  {
   "cell_type": "code",
   "execution_count": 12,
   "id": "9143875f-2350-45e9-90ee-2f44f614ccf1",
   "metadata": {},
   "outputs": [
    {
     "name": "stdout",
     "output_type": "stream",
     "text": [
      "chameleon\n"
     ]
    }
   ],
   "source": [
    "!ls /vol/models/"
   ]
  },
  {
   "cell_type": "markdown",
   "id": "3aa34617-7eb5-41f7-b43d-5e9589cae0c1",
   "metadata": {},
   "source": [
    "We will download the chameleon model and save it to modal volume, as the model download link expires within 24 hours.\n",
    "\n",
    "We can get the link by accepting TnC here: https://ai.meta.com/resources/models-and-libraries/chameleon-downloads/?gk_enable=chameleon_web_flow_is_live"
   ]
  },
  {
   "cell_type": "code",
   "execution_count": 6,
   "id": "c0a045e8-3a78-4fa8-b8c1-7b37a884d7a0",
   "metadata": {},
   "outputs": [
    {
     "name": "stdin",
     "output_type": "stream",
     "text": [
      "Enter presigned url link for Chameleon model: ········\n"
     ]
    }
   ],
   "source": [
    "presigned_url = getpass.getpass(\"Enter presigned url link for Chameleon model:\")"
   ]
  },
  {
   "cell_type": "code",
   "execution_count": 13,
   "id": "861f253d-79d6-4f91-be1f-4c0e7c8e6eb9",
   "metadata": {},
   "outputs": [
    {
     "name": "stdout",
     "output_type": "stream",
     "text": [
      "Downloading /vol/models/chameleon/data/tokenizer/text_tokenizer.json\n"
     ]
    },
    {
     "name": "stderr",
     "output_type": "stream",
     "text": [
      "--2024-06-23 16:00:42--  https://dbj4kdlgwwbrp.cloudfront.net/tokenizer/text_tokenizer.json?Policy=eyJTdGF0ZW1lbnQiOlt7InVuaXF1ZV9oYXNoIjoiMWwxdHJsemxvc2h2OGZwdzltenh0bm50IiwiUmVzb3VyY2UiOiJodHRwczpcL1wvZGJqNGtkbGd3d2JycC5jbG91ZGZyb250Lm5ldFwvKiIsIkNvbmRpdGlvbiI6eyJEYXRlTGVzc1RoYW4iOnsiQVdTOkVwb2NoVGltZSI6MTcxOTIzODM1Mn19fV19&Signature=EelXhNyeqcPpoLyn74M7e0tVLgAsYwBTPjCzQBrEPSaCfRSfDUEtHI%7EE1bfXuSmC2p3umlFnOvhwVpoU11BiEFhnAjWPVN6SnFcNku1X2GtOuWsquea2f0dJPQs4CVzXLB%7EydCaobEaWESCjnF%7E7Md%7EW1vDWn%7ExrSR8xS-dQWw7NLwQ40nqBeFy4KtEi-B7v%7EsmWXyJoSui%7E4ftLtNfuHWwezB2sGZeXN%7EcvdF%7EGJmw3A2UJLYTxRCBgAaUfyp7xk52jUI9Amc3-V0YvMAomYlsSkgL9nnUuPZEaCtDVK0yShS4aVzfKubzaCR6-8s-f48mo3A8AWbk1XikHsDA3Lw__&Key-Pair-Id=K15QRJLYKIFSLZ&Download-Request-ID=3305352793101446\n",
      "Resolving dbj4kdlgwwbrp.cloudfront.net (dbj4kdlgwwbrp.cloudfront.net)... 99.84.191.50, 99.84.191.28, 99.84.191.23, ...\n",
      "Connecting to dbj4kdlgwwbrp.cloudfront.net (dbj4kdlgwwbrp.cloudfront.net)|99.84.191.50|:443... connected.\n",
      "HTTP request sent, awaiting response... 416 Requested Range Not Satisfiable\n",
      "\n",
      "    The file is already fully retrieved; nothing to do.\n",
      "\n",
      "--2024-06-23 16:00:43--  https://dbj4kdlgwwbrp.cloudfront.net/tokenizer/vqgan.ckpt?Policy=eyJTdGF0ZW1lbnQiOlt7InVuaXF1ZV9oYXNoIjoiMWwxdHJsemxvc2h2OGZwdzltenh0bm50IiwiUmVzb3VyY2UiOiJodHRwczpcL1wvZGJqNGtkbGd3d2JycC5jbG91ZGZyb250Lm5ldFwvKiIsIkNvbmRpdGlvbiI6eyJEYXRlTGVzc1RoYW4iOnsiQVdTOkVwb2NoVGltZSI6MTcxOTIzODM1Mn19fV19&Signature=EelXhNyeqcPpoLyn74M7e0tVLgAsYwBTPjCzQBrEPSaCfRSfDUEtHI%7EE1bfXuSmC2p3umlFnOvhwVpoU11BiEFhnAjWPVN6SnFcNku1X2GtOuWsquea2f0dJPQs4CVzXLB%7EydCaobEaWESCjnF%7E7Md%7EW1vDWn%7ExrSR8xS-dQWw7NLwQ40nqBeFy4KtEi-B7v%7EsmWXyJoSui%7E4ftLtNfuHWwezB2sGZeXN%7EcvdF%7EGJmw3A2UJLYTxRCBgAaUfyp7xk52jUI9Amc3-V0YvMAomYlsSkgL9nnUuPZEaCtDVK0yShS4aVzfKubzaCR6-8s-f48mo3A8AWbk1XikHsDA3Lw__&Key-Pair-Id=K15QRJLYKIFSLZ&Download-Request-ID=3305352793101446\n",
      "Resolving dbj4kdlgwwbrp.cloudfront.net (dbj4kdlgwwbrp.cloudfront.net)... 99.84.191.37, 99.84.191.23, 99.84.191.28, ...\n",
      "Connecting to dbj4kdlgwwbrp.cloudfront.net (dbj4kdlgwwbrp.cloudfront.net)|99.84.191.37|:443... connected.\n",
      "HTTP request sent, awaiting response... 416 Requested Range Not Satisfiable\n",
      "\n",
      "    The file is already fully retrieved; nothing to do.\n",
      "\n",
      "--2024-06-23 16:00:43--  https://dbj4kdlgwwbrp.cloudfront.net/tokenizer/vqgan.yaml?Policy=eyJTdGF0ZW1lbnQiOlt7InVuaXF1ZV9oYXNoIjoiMWwxdHJsemxvc2h2OGZwdzltenh0bm50IiwiUmVzb3VyY2UiOiJodHRwczpcL1wvZGJqNGtkbGd3d2JycC5jbG91ZGZyb250Lm5ldFwvKiIsIkNvbmRpdGlvbiI6eyJEYXRlTGVzc1RoYW4iOnsiQVdTOkVwb2NoVGltZSI6MTcxOTIzODM1Mn19fV19&Signature=EelXhNyeqcPpoLyn74M7e0tVLgAsYwBTPjCzQBrEPSaCfRSfDUEtHI%7EE1bfXuSmC2p3umlFnOvhwVpoU11BiEFhnAjWPVN6SnFcNku1X2GtOuWsquea2f0dJPQs4CVzXLB%7EydCaobEaWESCjnF%7E7Md%7EW1vDWn%7ExrSR8xS-dQWw7NLwQ40nqBeFy4KtEi-B7v%7EsmWXyJoSui%7E4ftLtNfuHWwezB2sGZeXN%7EcvdF%7EGJmw3A2UJLYTxRCBgAaUfyp7xk52jUI9Amc3-V0YvMAomYlsSkgL9nnUuPZEaCtDVK0yShS4aVzfKubzaCR6-8s-f48mo3A8AWbk1XikHsDA3Lw__&Key-Pair-Id=K15QRJLYKIFSLZ&Download-Request-ID=3305352793101446\n",
      "Resolving dbj4kdlgwwbrp.cloudfront.net (dbj4kdlgwwbrp.cloudfront.net)... 99.84.191.50, 99.84.191.37, 99.84.191.23, ...\n",
      "Connecting to dbj4kdlgwwbrp.cloudfront.net (dbj4kdlgwwbrp.cloudfront.net)|99.84.191.50|:443... connected.\n",
      "HTTP request sent, awaiting response... "
     ]
    },
    {
     "name": "stdout",
     "output_type": "stream",
     "text": [
      "Downloading /vol/models/chameleon/data/tokenizer/vqgan.ckpt\n",
      "Downloading /vol/models/chameleon/data/tokenizer/vqgan.yaml\n"
     ]
    },
    {
     "name": "stderr",
     "output_type": "stream",
     "text": [
      "416 Requested Range Not Satisfiable\n",
      "\n",
      "    The file is already fully retrieved; nothing to do.\n",
      "\n",
      "--2024-06-23 16:00:43--  https://dbj4kdlgwwbrp.cloudfront.net/tokenizer/checklist.chk?Policy=eyJTdGF0ZW1lbnQiOlt7InVuaXF1ZV9oYXNoIjoiMWwxdHJsemxvc2h2OGZwdzltenh0bm50IiwiUmVzb3VyY2UiOiJodHRwczpcL1wvZGJqNGtkbGd3d2JycC5jbG91ZGZyb250Lm5ldFwvKiIsIkNvbmRpdGlvbiI6eyJEYXRlTGVzc1RoYW4iOnsiQVdTOkVwb2NoVGltZSI6MTcxOTIzODM1Mn19fV19&Signature=EelXhNyeqcPpoLyn74M7e0tVLgAsYwBTPjCzQBrEPSaCfRSfDUEtHI%7EE1bfXuSmC2p3umlFnOvhwVpoU11BiEFhnAjWPVN6SnFcNku1X2GtOuWsquea2f0dJPQs4CVzXLB%7EydCaobEaWESCjnF%7E7Md%7EW1vDWn%7ExrSR8xS-dQWw7NLwQ40nqBeFy4KtEi-B7v%7EsmWXyJoSui%7E4ftLtNfuHWwezB2sGZeXN%7EcvdF%7EGJmw3A2UJLYTxRCBgAaUfyp7xk52jUI9Amc3-V0YvMAomYlsSkgL9nnUuPZEaCtDVK0yShS4aVzfKubzaCR6-8s-f48mo3A8AWbk1XikHsDA3Lw__&Key-Pair-Id=K15QRJLYKIFSLZ&Download-Request-ID=3305352793101446\n",
      "Resolving dbj4kdlgwwbrp.cloudfront.net (dbj4kdlgwwbrp.cloudfront.net)... 99.84.191.28, 99.84.191.50, 99.84.191.37, ...\n",
      "Connecting to dbj4kdlgwwbrp.cloudfront.net (dbj4kdlgwwbrp.cloudfront.net)|99.84.191.28|:443... connected.\n",
      "HTTP request sent, awaiting response... 416 Requested Range Not Satisfiable\n",
      "\n",
      "    The file is already fully retrieved; nothing to do.\n",
      "\n"
     ]
    },
    {
     "name": "stdout",
     "output_type": "stream",
     "text": [
      "Downloading /vol/models/chameleon/data/tokenizer/checklist.chk\n"
     ]
    }
   ],
   "source": [
    "#from https://github.com/facebookresearch/chameleon/blob/3356bda40896f73d8c8d03c19694ec1607c477ed/chameleon/download_data.py\n",
    "target_folder = Path(\"/vol/models/chameleon/data\")\n",
    "target_folder.mkdir(parents=True, exist_ok=True)\n",
    "\n",
    "download_data.download_tokenizer(presigned_url, target_folder)"
   ]
  },
  {
   "cell_type": "code",
   "execution_count": 14,
   "id": "b6a71f20-a1a6-457f-8299-6b9405eef08a",
   "metadata": {},
   "outputs": [
    {
     "name": "stdout",
     "output_type": "stream",
     "text": [
      "Downloading /vol/models/chameleon/data/models/7b/params.json\n",
      "Downloading /vol/models/chameleon/data/models/7b/consolidate_params.json\n"
     ]
    },
    {
     "name": "stderr",
     "output_type": "stream",
     "text": [
      "--2024-06-23 16:00:52--  https://dbj4kdlgwwbrp.cloudfront.net/7b/params.json?Policy=eyJTdGF0ZW1lbnQiOlt7InVuaXF1ZV9oYXNoIjoiMWwxdHJsemxvc2h2OGZwdzltenh0bm50IiwiUmVzb3VyY2UiOiJodHRwczpcL1wvZGJqNGtkbGd3d2JycC5jbG91ZGZyb250Lm5ldFwvKiIsIkNvbmRpdGlvbiI6eyJEYXRlTGVzc1RoYW4iOnsiQVdTOkVwb2NoVGltZSI6MTcxOTIzODM1Mn19fV19&Signature=EelXhNyeqcPpoLyn74M7e0tVLgAsYwBTPjCzQBrEPSaCfRSfDUEtHI%7EE1bfXuSmC2p3umlFnOvhwVpoU11BiEFhnAjWPVN6SnFcNku1X2GtOuWsquea2f0dJPQs4CVzXLB%7EydCaobEaWESCjnF%7E7Md%7EW1vDWn%7ExrSR8xS-dQWw7NLwQ40nqBeFy4KtEi-B7v%7EsmWXyJoSui%7E4ftLtNfuHWwezB2sGZeXN%7EcvdF%7EGJmw3A2UJLYTxRCBgAaUfyp7xk52jUI9Amc3-V0YvMAomYlsSkgL9nnUuPZEaCtDVK0yShS4aVzfKubzaCR6-8s-f48mo3A8AWbk1XikHsDA3Lw__&Key-Pair-Id=K15QRJLYKIFSLZ&Download-Request-ID=3305352793101446\n",
      "Resolving dbj4kdlgwwbrp.cloudfront.net (dbj4kdlgwwbrp.cloudfront.net)... 99.84.191.23, 99.84.191.28, 99.84.191.50, ...\n",
      "Connecting to dbj4kdlgwwbrp.cloudfront.net (dbj4kdlgwwbrp.cloudfront.net)|99.84.191.23|:443... connected.\n",
      "HTTP request sent, awaiting response... 416 Requested Range Not Satisfiable\n",
      "\n",
      "    The file is already fully retrieved; nothing to do.\n",
      "\n",
      "--2024-06-23 16:00:52--  https://dbj4kdlgwwbrp.cloudfront.net/7b/consolidate_params.json?Policy=eyJTdGF0ZW1lbnQiOlt7InVuaXF1ZV9oYXNoIjoiMWwxdHJsemxvc2h2OGZwdzltenh0bm50IiwiUmVzb3VyY2UiOiJodHRwczpcL1wvZGJqNGtkbGd3d2JycC5jbG91ZGZyb250Lm5ldFwvKiIsIkNvbmRpdGlvbiI6eyJEYXRlTGVzc1RoYW4iOnsiQVdTOkVwb2NoVGltZSI6MTcxOTIzODM1Mn19fV19&Signature=EelXhNyeqcPpoLyn74M7e0tVLgAsYwBTPjCzQBrEPSaCfRSfDUEtHI%7EE1bfXuSmC2p3umlFnOvhwVpoU11BiEFhnAjWPVN6SnFcNku1X2GtOuWsquea2f0dJPQs4CVzXLB%7EydCaobEaWESCjnF%7E7Md%7EW1vDWn%7ExrSR8xS-dQWw7NLwQ40nqBeFy4KtEi-B7v%7EsmWXyJoSui%7E4ftLtNfuHWwezB2sGZeXN%7EcvdF%7EGJmw3A2UJLYTxRCBgAaUfyp7xk52jUI9Amc3-V0YvMAomYlsSkgL9nnUuPZEaCtDVK0yShS4aVzfKubzaCR6-8s-f48mo3A8AWbk1XikHsDA3Lw__&Key-Pair-Id=K15QRJLYKIFSLZ&Download-Request-ID=3305352793101446\n",
      "Resolving dbj4kdlgwwbrp.cloudfront.net (dbj4kdlgwwbrp.cloudfront.net)... 99.84.191.37, 99.84.191.23, 99.84.191.28, ...\n",
      "Connecting to dbj4kdlgwwbrp.cloudfront.net (dbj4kdlgwwbrp.cloudfront.net)|99.84.191.37|:443... connected.\n",
      "HTTP request sent, awaiting response... 416 Requested Range Not Satisfiable\n",
      "\n",
      "    The file is already fully retrieved; nothing to do.\n",
      "\n"
     ]
    },
    {
     "name": "stdout",
     "output_type": "stream",
     "text": [
      "Downloading /vol/models/chameleon/data/models/7b/checklist.chk\n",
      "Downloading /vol/models/chameleon/data/models/7b/consolidated.pth\n"
     ]
    },
    {
     "name": "stderr",
     "output_type": "stream",
     "text": [
      "--2024-06-23 16:00:52--  https://dbj4kdlgwwbrp.cloudfront.net/7b/checklist.chk?Policy=eyJTdGF0ZW1lbnQiOlt7InVuaXF1ZV9oYXNoIjoiMWwxdHJsemxvc2h2OGZwdzltenh0bm50IiwiUmVzb3VyY2UiOiJodHRwczpcL1wvZGJqNGtkbGd3d2JycC5jbG91ZGZyb250Lm5ldFwvKiIsIkNvbmRpdGlvbiI6eyJEYXRlTGVzc1RoYW4iOnsiQVdTOkVwb2NoVGltZSI6MTcxOTIzODM1Mn19fV19&Signature=EelXhNyeqcPpoLyn74M7e0tVLgAsYwBTPjCzQBrEPSaCfRSfDUEtHI%7EE1bfXuSmC2p3umlFnOvhwVpoU11BiEFhnAjWPVN6SnFcNku1X2GtOuWsquea2f0dJPQs4CVzXLB%7EydCaobEaWESCjnF%7E7Md%7EW1vDWn%7ExrSR8xS-dQWw7NLwQ40nqBeFy4KtEi-B7v%7EsmWXyJoSui%7E4ftLtNfuHWwezB2sGZeXN%7EcvdF%7EGJmw3A2UJLYTxRCBgAaUfyp7xk52jUI9Amc3-V0YvMAomYlsSkgL9nnUuPZEaCtDVK0yShS4aVzfKubzaCR6-8s-f48mo3A8AWbk1XikHsDA3Lw__&Key-Pair-Id=K15QRJLYKIFSLZ&Download-Request-ID=3305352793101446\n",
      "Resolving dbj4kdlgwwbrp.cloudfront.net (dbj4kdlgwwbrp.cloudfront.net)... 99.84.191.50, 99.84.191.37, 99.84.191.23, ...\n",
      "Connecting to dbj4kdlgwwbrp.cloudfront.net (dbj4kdlgwwbrp.cloudfront.net)|99.84.191.50|:443... connected.\n",
      "HTTP request sent, awaiting response... 416 Requested Range Not Satisfiable\n",
      "\n",
      "    The file is already fully retrieved; nothing to do.\n",
      "\n",
      "--2024-06-23 16:00:52--  https://dbj4kdlgwwbrp.cloudfront.net/7b/consolidated.pth?Policy=eyJTdGF0ZW1lbnQiOlt7InVuaXF1ZV9oYXNoIjoiMWwxdHJsemxvc2h2OGZwdzltenh0bm50IiwiUmVzb3VyY2UiOiJodHRwczpcL1wvZGJqNGtkbGd3d2JycC5jbG91ZGZyb250Lm5ldFwvKiIsIkNvbmRpdGlvbiI6eyJEYXRlTGVzc1RoYW4iOnsiQVdTOkVwb2NoVGltZSI6MTcxOTIzODM1Mn19fV19&Signature=EelXhNyeqcPpoLyn74M7e0tVLgAsYwBTPjCzQBrEPSaCfRSfDUEtHI%7EE1bfXuSmC2p3umlFnOvhwVpoU11BiEFhnAjWPVN6SnFcNku1X2GtOuWsquea2f0dJPQs4CVzXLB%7EydCaobEaWESCjnF%7E7Md%7EW1vDWn%7ExrSR8xS-dQWw7NLwQ40nqBeFy4KtEi-B7v%7EsmWXyJoSui%7E4ftLtNfuHWwezB2sGZeXN%7EcvdF%7EGJmw3A2UJLYTxRCBgAaUfyp7xk52jUI9Amc3-V0YvMAomYlsSkgL9nnUuPZEaCtDVK0yShS4aVzfKubzaCR6-8s-f48mo3A8AWbk1XikHsDA3Lw__&Key-Pair-Id=K15QRJLYKIFSLZ&Download-Request-ID=3305352793101446\n",
      "Resolving dbj4kdlgwwbrp.cloudfront.net (dbj4kdlgwwbrp.cloudfront.net)... 99.84.191.28, 99.84.191.50, 99.84.191.37, ...\n",
      "Connecting to dbj4kdlgwwbrp.cloudfront.net (dbj4kdlgwwbrp.cloudfront.net)|99.84.191.28|:443... connected.\n",
      "HTTP request sent, awaiting response... 416 Requested Range Not Satisfiable\n",
      "\n",
      "    The file is already fully retrieved; nothing to do.\n",
      "\n"
     ]
    }
   ],
   "source": [
    "model_size = \"7B\"  # \n",
    "\n",
    "for model in model_size.split(\",\"):\n",
    "    model = model.strip().lower()\n",
    "    download_data.download_model(presigned_url, target_folder, model)"
   ]
  },
  {
   "cell_type": "markdown",
   "id": "a4f1863b-9563-440a-bbb7-ea34b148d9df",
   "metadata": {},
   "source": [
    "Too much logging may require reloading of notebook"
   ]
  },
  {
   "cell_type": "code",
   "execution_count": 18,
   "id": "dbb58157-7962-4302-8188-3cd3db96cd87",
   "metadata": {},
   "outputs": [
    {
     "name": "stdout",
     "output_type": "stream",
     "text": [
      "models\ttokenizer\n"
     ]
    }
   ],
   "source": [
    "!ls /vol/models/chameleon/data"
   ]
  },
  {
   "cell_type": "code",
   "execution_count": 20,
   "id": "e4a23e14-548d-42ae-b0ad-d7df131db9ff",
   "metadata": {},
   "outputs": [
    {
     "name": "stdout",
     "output_type": "stream",
     "text": [
      "checklist.chk  consolidate_params.json\tconsolidated.pth  params.json\n"
     ]
    }
   ],
   "source": [
    "!ls /vol/models/chameleon/data/models/7b"
   ]
  },
  {
   "cell_type": "markdown",
   "id": "f501bdb1-fb9c-4f15-8a4c-4d6ba99b581a",
   "metadata": {},
   "source": [
    "    - Model, tokenizer and configs files have been successfully downloaded\n",
    "    - We will do volume.commit to persist these artefacts inside a modal volume\n"
   ]
  },
  {
   "cell_type": "code",
   "execution_count": 21,
   "id": "9b12bf6f-bb43-4c47-afa1-bf1c3179ee88",
   "metadata": {},
   "outputs": [],
   "source": [
    "n.commit()"
   ]
  },
  {
   "cell_type": "code",
   "execution_count": 23,
   "id": "2aaa3145-f5e9-4479-94c9-92e7ab1e69ef",
   "metadata": {},
   "outputs": [
    {
     "name": "stdout",
     "output_type": "stream",
     "text": [
      "[FileEntry(path='data/tokenizer', type=<FileEntryType.DIRECTORY: 2>, mtime=1719157875, size=52), FileEntry(path='data/models', type=<FileEntryType.DIRECTORY: 2>, mtime=1719157929, size=2)]\n"
     ]
    }
   ],
   "source": [
    "print(n.listdir(\"/data\"))"
   ]
  },
  {
   "cell_type": "code",
   "execution_count": null,
   "id": "7900364b-471d-44cd-8900-36f295aa4f5f",
   "metadata": {},
   "outputs": [],
   "source": []
  }
 ],
 "metadata": {
  "kernelspec": {
   "display_name": "Python 3 (ipykernel)",
   "language": "python",
   "name": "python3"
  },
  "language_info": {
   "codemirror_mode": {
    "name": "ipython",
    "version": 3
   },
   "file_extension": ".py",
   "mimetype": "text/x-python",
   "name": "python",
   "nbconvert_exporter": "python",
   "pygments_lexer": "ipython3",
   "version": "3.11.5"
  }
 },
 "nbformat": 4,
 "nbformat_minor": 5
}
